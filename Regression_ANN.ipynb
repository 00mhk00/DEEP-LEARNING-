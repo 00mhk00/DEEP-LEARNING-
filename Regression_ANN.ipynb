{
  "nbformat": 4,
  "nbformat_minor": 0,
  "metadata": {
    "colab": {
      "name": "Regression_ANN.ipynb",
      "provenance": [],
      "collapsed_sections": [],
      "authorship_tag": "ABX9TyPnScwr78Qk3advZOcuvk32",
      "include_colab_link": true
    },
    "kernelspec": {
      "name": "python3",
      "display_name": "Python 3"
    }
  },
  "cells": [
    {
      "cell_type": "markdown",
      "metadata": {
        "id": "view-in-github",
        "colab_type": "text"
      },
      "source": [
        "<a href=\"https://colab.research.google.com/github/00mhk00/DEEP-LEARNING-/blob/master/Regression_ANN.ipynb\" target=\"_parent\"><img src=\"https://colab.research.google.com/assets/colab-badge.svg\" alt=\"Open In Colab\"/></a>"
      ]
    },
    {
      "cell_type": "code",
      "metadata": {
        "id": "hGxkTc6yz5wQ",
        "colab_type": "code",
        "colab": {
          "base_uri": "https://localhost:8080/",
          "height": 818
        },
        "outputId": "4d64fb93-b10f-427f-ffe0-84c5256f4a86"
      },
      "source": [
        "import pandas as pd\n",
        "BHNames= ['crim','zn','indus','chas','nox','rm'\n",
        " 'age','dis','rad','tax','ptratio','black','lstat','medv']\n",
        "url='https://archive.ics.uci.edu/ml/machine-learning-databases/housing/housing.data'\n",
        "data = pd.read_csv(url, delim_whitespace=True, names=BHNames)\n",
        "print(data.head(20))\n",
        "print(data.info())\n",
        "'''\n",
        "CRIM: Per capita crime rate by town\n",
        "ZN: Proportion of residential land zoned for lots over 25,000 sq. ft\n",
        "INDUS: Proportion of non-retail business acres per town\n",
        "CHAS: Charles River dummy variable (= 1 if tract bounds river; 0 otherwise)\n",
        "NOX: Nitric oxide concentration (parts per 10 million)\n",
        "RM: Average number of rooms per dwelling\n",
        "AGE: Proportion of owner-occupied units built prior to 1940\n",
        "DIS: Weighted distances to five Boston employment centers\n",
        "RAD: Index of accessibility to radial highways\n",
        "TAX: Full-value property tax rate per $10,000\n",
        "PTRATIO: Pupil-teacher ratio by town\n",
        "B: 1000(Bk — 0.63)², where Bk is the proportion of [people of African American descent] by town\n",
        "LSTAT: Percentage of lower status of the population\n",
        "MEDV: Median value of owner-occupied homes in $1000s'''"
      ],
      "execution_count": null,
      "outputs": [
        {
          "output_type": "stream",
          "text": [
            "         crim    zn  indus   chas    nox  ...    tax  ptratio   black  lstat  medv\n",
            "0.00632  18.0  2.31      0  0.538  6.575  ...  296.0     15.3  396.90   4.98  24.0\n",
            "0.02731   0.0  7.07      0  0.469  6.421  ...  242.0     17.8  396.90   9.14  21.6\n",
            "0.02729   0.0  7.07      0  0.469  7.185  ...  242.0     17.8  392.83   4.03  34.7\n",
            "0.03237   0.0  2.18      0  0.458  6.998  ...  222.0     18.7  394.63   2.94  33.4\n",
            "0.06905   0.0  2.18      0  0.458  7.147  ...  222.0     18.7  396.90   5.33  36.2\n",
            "0.02985   0.0  2.18      0  0.458  6.430  ...  222.0     18.7  394.12   5.21  28.7\n",
            "0.08829  12.5  7.87      0  0.524  6.012  ...  311.0     15.2  395.60  12.43  22.9\n",
            "0.14455  12.5  7.87      0  0.524  6.172  ...  311.0     15.2  396.90  19.15  27.1\n",
            "0.21124  12.5  7.87      0  0.524  5.631  ...  311.0     15.2  386.63  29.93  16.5\n",
            "0.17004  12.5  7.87      0  0.524  6.004  ...  311.0     15.2  386.71  17.10  18.9\n",
            "0.22489  12.5  7.87      0  0.524  6.377  ...  311.0     15.2  392.52  20.45  15.0\n",
            "0.11747  12.5  7.87      0  0.524  6.009  ...  311.0     15.2  396.90  13.27  18.9\n",
            "0.09378  12.5  7.87      0  0.524  5.889  ...  311.0     15.2  390.50  15.71  21.7\n",
            "0.62976   0.0  8.14      0  0.538  5.949  ...  307.0     21.0  396.90   8.26  20.4\n",
            "0.63796   0.0  8.14      0  0.538  6.096  ...  307.0     21.0  380.02  10.26  18.2\n",
            "0.62739   0.0  8.14      0  0.538  5.834  ...  307.0     21.0  395.62   8.47  19.9\n",
            "1.05393   0.0  8.14      0  0.538  5.935  ...  307.0     21.0  386.85   6.58  23.1\n",
            "0.78420   0.0  8.14      0  0.538  5.990  ...  307.0     21.0  386.75  14.67  17.5\n",
            "0.80271   0.0  8.14      0  0.538  5.456  ...  307.0     21.0  288.99  11.69  20.2\n",
            "0.72580   0.0  8.14      0  0.538  5.727  ...  307.0     21.0  390.95  11.28  18.2\n",
            "\n",
            "[20 rows x 13 columns]\n",
            "<class 'pandas.core.frame.DataFrame'>\n",
            "Float64Index: 506 entries, 0.00632 to 0.04741\n",
            "Data columns (total 13 columns):\n",
            " #   Column   Non-Null Count  Dtype  \n",
            "---  ------   --------------  -----  \n",
            " 0   crim     506 non-null    float64\n",
            " 1   zn       506 non-null    float64\n",
            " 2   indus    506 non-null    int64  \n",
            " 3   chas     506 non-null    float64\n",
            " 4   nox      506 non-null    float64\n",
            " 5   rmage    506 non-null    float64\n",
            " 6   dis      506 non-null    float64\n",
            " 7   rad      506 non-null    int64  \n",
            " 8   tax      506 non-null    float64\n",
            " 9   ptratio  506 non-null    float64\n",
            " 10  black    506 non-null    float64\n",
            " 11  lstat    506 non-null    float64\n",
            " 12  medv     506 non-null    float64\n",
            "dtypes: float64(11), int64(2)\n",
            "memory usage: 55.3 KB\n",
            "None\n"
          ],
          "name": "stdout"
        },
        {
          "output_type": "execute_result",
          "data": {
            "text/plain": [
              "'\\nCRIM: Per capita crime rate by town\\nZN: Proportion of residential land zoned for lots over 25,000 sq. ft\\nINDUS: Proportion of non-retail business acres per town\\nCHAS: Charles River dummy variable (= 1 if tract bounds river; 0 otherwise)\\nNOX: Nitric oxide concentration (parts per 10 million)\\nRM: Average number of rooms per dwelling\\nAGE: Proportion of owner-occupied units built prior to 1940\\nDIS: Weighted distances to five Boston employment centers\\nRAD: Index of accessibility to radial highways\\nTAX: Full-value property tax rate per $10,000\\nPTRATIO: Pupil-teacher ratio by town\\nB: 1000(Bk — 0.63)², where Bk is the proportion of [people of African American descent] by town\\nLSTAT: Percentage of lower status of the population\\nMEDV: Median value of owner-occupied homes in $1000s'"
            ]
          },
          "metadata": {
            "tags": []
          },
          "execution_count": 3
        }
      ]
    },
    {
      "cell_type": "code",
      "metadata": {
        "id": "edzWy3zP0Fkp",
        "colab_type": "code",
        "colab": {
          "base_uri": "https://localhost:8080/",
          "height": 295
        },
        "outputId": "2480dba4-2268-4eb1-fb30-6fdcd2c92e4e"
      },
      "source": [
        "summary = data.describe()\n",
        "summary = summary.transpose()\n",
        "print(summary)"
      ],
      "execution_count": null,
      "outputs": [
        {
          "output_type": "stream",
          "text": [
            "         count        mean         std  ...        50%         75%       max\n",
            "crim     506.0   11.363636   23.322453  ...    0.00000   12.500000  100.0000\n",
            "zn       506.0   11.136779    6.860353  ...    9.69000   18.100000   27.7400\n",
            "indus    506.0    0.069170    0.253994  ...    0.00000    0.000000    1.0000\n",
            "chas     506.0    0.554695    0.115878  ...    0.53800    0.624000    0.8710\n",
            "nox      506.0    6.284634    0.702617  ...    6.20850    6.623500    8.7800\n",
            "rmage    506.0   68.574901   28.148861  ...   77.50000   94.075000  100.0000\n",
            "dis      506.0    3.795043    2.105710  ...    3.20745    5.188425   12.1265\n",
            "rad      506.0    9.549407    8.707259  ...    5.00000   24.000000   24.0000\n",
            "tax      506.0  408.237154  168.537116  ...  330.00000  666.000000  711.0000\n",
            "ptratio  506.0   18.455534    2.164946  ...   19.05000   20.200000   22.0000\n",
            "black    506.0  356.674032   91.294864  ...  391.44000  396.225000  396.9000\n",
            "lstat    506.0   12.653063    7.141062  ...   11.36000   16.955000   37.9700\n",
            "medv     506.0   22.532806    9.197104  ...   21.20000   25.000000   50.0000\n",
            "\n",
            "[13 rows x 8 columns]\n"
          ],
          "name": "stdout"
        }
      ]
    },
    {
      "cell_type": "code",
      "metadata": {
        "id": "v-I-R2gi0Fyk",
        "colab_type": "code",
        "colab": {
          "base_uri": "https://localhost:8080/",
          "height": 278
        },
        "outputId": "997db6af-42fc-4f57-cc4d-0325dca80ba8"
      },
      "source": [
        "#To Scale data from 0 to 1 apply preprocessing Mms!\n",
        "from sklearn.preprocessing import MinMaxScaler\n",
        "scaler = MinMaxScaler()\n",
        "print(scaler.fit(data))\n",
        "DataScaled = scaler.fit_transform(data)\n",
        "DataScaled = pd.DataFrame(DataScaled, columns=BHNames)\n",
        "summary = DataScaled.describe()\n",
        "summary = summary.transpose()\n",
        "print(summary)"
      ],
      "execution_count": null,
      "outputs": [
        {
          "output_type": "stream",
          "text": [
            "MinMaxScaler(copy=True, feature_range=(0, 1))\n",
            "         count      mean       std  min       25%       50%       75%  max\n",
            "crim     506.0  0.113636  0.233225  0.0  0.000000  0.000000  0.125000  1.0\n",
            "zn       506.0  0.391378  0.251479  0.0  0.173387  0.338343  0.646628  1.0\n",
            "indus    506.0  0.069170  0.253994  0.0  0.000000  0.000000  0.000000  1.0\n",
            "chas     506.0  0.349167  0.238431  0.0  0.131687  0.314815  0.491770  1.0\n",
            "nox      506.0  0.521869  0.134627  0.0  0.445392  0.507281  0.586798  1.0\n",
            "rmage    506.0  0.676364  0.289896  0.0  0.433831  0.768280  0.938980  1.0\n",
            "dis      506.0  0.242381  0.191482  0.0  0.088259  0.188949  0.369088  1.0\n",
            "rad      506.0  0.371713  0.378576  0.0  0.130435  0.173913  1.000000  1.0\n",
            "tax      506.0  0.422208  0.321636  0.0  0.175573  0.272901  0.914122  1.0\n",
            "ptratio  506.0  0.622929  0.230313  0.0  0.510638  0.686170  0.808511  1.0\n",
            "black    506.0  0.898568  0.230205  0.0  0.945730  0.986232  0.998298  1.0\n",
            "lstat    506.0  0.301409  0.197049  0.0  0.144040  0.265728  0.420116  1.0\n",
            "medv     506.0  0.389618  0.204380  0.0  0.267222  0.360000  0.444444  1.0\n"
          ],
          "name": "stdout"
        }
      ]
    },
    {
      "cell_type": "code",
      "metadata": {
        "id": "b7yShrs40GBY",
        "colab_type": "code",
        "colab": {
          "base_uri": "https://localhost:8080/",
          "height": 769
        },
        "outputId": "b9b44183-3ca6-4b5f-f69b-e1cdbf735c1f"
      },
      "source": [
        "import matplotlib.pyplot as plt\n",
        "boxplot = DataScaled.boxplot(column=BHNames)\n",
        "plt.show()\n",
        "CorData = DataScaled.corr(method='pearson')\n",
        "with pd.option_context('display.max_rows', None, 'display.max_columns', CorData.shape[1]):\n",
        "  print(CorData)"
      ],
      "execution_count": null,
      "outputs": [
        {
          "output_type": "display_data",
          "data": {
            "image/png": "[encoded data removed]",
            "text/plain": [
              "<Figure size 432x288 with 1 Axes>"
            ]
          },
          "metadata": {
            "tags": [],
            "needs_background": "light"
          }
        },
        {
          "output_type": "stream",
          "text": [
            "             crim        zn     indus      chas       nox     rmage       dis  \\\n",
            "crim     1.000000 -0.533828 -0.042697 -0.516604  0.311991 -0.569537  0.664408   \n",
            "zn      -0.533828  1.000000  0.062938  0.763651 -0.391676  0.644779 -0.708027   \n",
            "indus   -0.042697  0.062938  1.000000  0.091203  0.091251  0.086518 -0.099176   \n",
            "chas    -0.516604  0.763651  0.091203  1.000000 -0.302188  0.731470 -0.769230   \n",
            "nox      0.311991 -0.391676  0.091251 -0.302188  1.000000 -0.240265  0.205246   \n",
            "rmage   -0.569537  0.644779  0.086518  0.731470 -0.240265  1.000000 -0.747881   \n",
            "dis      0.664408 -0.708027 -0.099176 -0.769230  0.205246 -0.747881  1.000000   \n",
            "rad     -0.311948  0.595129 -0.007368  0.611441 -0.209847  0.456022 -0.494588   \n",
            "tax     -0.314563  0.720760 -0.035587  0.668023 -0.292048  0.506456 -0.534432   \n",
            "ptratio -0.391679  0.383248 -0.121515  0.188933 -0.355501  0.261515 -0.232471   \n",
            "black    0.175520 -0.356977  0.048788 -0.380051  0.128069 -0.273534  0.291512   \n",
            "lstat   -0.412995  0.603800 -0.053929  0.590879 -0.613808  0.602339 -0.496996   \n",
            "medv     0.360445 -0.483725  0.175260 -0.427321  0.695360 -0.376955  0.249929   \n",
            "\n",
            "              rad       tax   ptratio     black     lstat      medv  \n",
            "crim    -0.311948 -0.314563 -0.391679  0.175520 -0.412995  0.360445  \n",
            "zn       0.595129  0.720760  0.383248 -0.356977  0.603800 -0.483725  \n",
            "indus   -0.007368 -0.035587 -0.121515  0.048788 -0.053929  0.175260  \n",
            "chas     0.611441  0.668023  0.188933 -0.380051  0.590879 -0.427321  \n",
            "nox     -0.209847 -0.292048 -0.355501  0.128069 -0.613808  0.695360  \n",
            "rmage    0.456022  0.506456  0.261515 -0.273534  0.602339 -0.376955  \n",
            "dis     -0.494588 -0.534432 -0.232471  0.291512 -0.496996  0.249929  \n",
            "rad      1.000000  0.910228  0.464741 -0.444413  0.488676 -0.381626  \n",
            "tax      0.910228  1.000000  0.460853 -0.441808  0.543993 -0.468536  \n",
            "ptratio  0.464741  0.460853  1.000000 -0.177383  0.374044 -0.507787  \n",
            "black   -0.444413 -0.441808 -0.177383  1.000000 -0.366087  0.333461  \n",
            "lstat    0.488676  0.543993  0.374044 -0.366087  1.000000 -0.737663  \n",
            "medv    -0.381626 -0.468536 -0.507787  0.333461 -0.737663  1.000000  \n"
          ],
          "name": "stdout"
        }
      ]
    },
    {
      "cell_type": "code",
      "metadata": {
        "id": "Up9L4OtD0GPs",
        "colab_type": "code",
        "colab": {
          "base_uri": "https://localhost:8080/",
          "height": 258
        },
        "outputId": "7770f24a-82dd-452e-cfc5-7eb8b3dcf923"
      },
      "source": [
        "plt.matshow(CorData)\n",
        "plt.xticks(range(len(CorData.columns)), CorData.columns)\n",
        "plt.yticks(range(len(CorData.columns)), CorData.columns)\n",
        "plt.colorbar()\n",
        "plt.show()"
      ],
      "execution_count": null,
      "outputs": [
        {
          "output_type": "display_data",
          "data": {
            "image/png": "[encoded data removed]",
            "text/plain": [
              "<Figure size 288x288 with 2 Axes>"
            ]
          },
          "metadata": {
            "tags": [],
            "needs_background": "light"
          }
        }
      ]
    },
    {
      "cell_type": "code",
      "metadata": {
        "id": "ZcmNMS0u2_N9",
        "colab_type": "code",
        "colab": {
          "base_uri": "https://localhost:8080/",
          "height": 121
        },
        "outputId": "6ad529be-1d27-46ee-e538-cda4147bfdf8"
      },
      "source": [
        "from sklearn.model_selection import train_test_split\n",
        "X = DataScaled.drop('medv', axis = 1)\n",
        "print('X shape = ',X.shape)\n",
        "Y = DataScaled['medv']\n",
        "print('Y shape = ',Y.shape)\n",
        "X_train, X_test, Y_train, Y_test = train_test_split(X, Y, test_size = 0.30, random_state = 5)\n",
        "print('X train shape = ',X_train.shape)\n",
        "print('X test shape = ', X_test.shape)\n",
        "print('Y train shape = ', Y_train.shape)\n",
        "print('Y test shape = ',Y_test.shape)"
      ],
      "execution_count": null,
      "outputs": [
        {
          "output_type": "stream",
          "text": [
            "X shape =  (506, 12)\n",
            "Y shape =  (506,)\n",
            "X train shape =  (354, 12)\n",
            "X test shape =  (152, 12)\n",
            "Y train shape =  (354,)\n",
            "Y test shape =  (152,)\n"
          ],
          "name": "stdout"
        }
      ]
    },
    {
      "cell_type": "code",
      "metadata": {
        "id": "TeKbguuD4RmM",
        "colab_type": "code",
        "colab": {}
      },
      "source": [
        "#import keras\n",
        "import keras\n",
        "from keras.models import Sequential\n",
        "from keras.layers import Dense\n",
        "from keras import metrics\n",
        "\n",
        "#first input and first hidden layer\n",
        "model = Sequential()\n",
        "model.add(Dense(20,input_dim=13, activation='relu'))\n",
        "        \n",
        "#second hidden layer\n",
        "model.add(Dense(10, activation='relu'))\n",
        "        \n",
        "#output layer\n",
        "model.add(Dense(1, activation='linear'))\n",
        "        \n",
        "#compile ANN\n",
        "model.compile(optimizer=\"Adam\", loss='mean_squared_error', metrics=['accuracy'])"
      ],
      "execution_count": null,
      "outputs": []
    },
    {
      "cell_type": "code",
      "metadata": {
        "id": "gWaKuD7H4-eF",
        "colab_type": "code",
        "colab": {
          "base_uri": "https://localhost:8080/",
          "height": 328
        },
        "outputId": "106f010a-a596-46b3-9f4d-214da0470a4b"
      },
      "source": [
        "#fit and display the summary \n",
        "model.fit(X_train,Y_train, epochs=1000, verbose=1)\n",
        "print(x_data[0:1].shape) "
      ],
      "execution_count": null,
      "outputs": [
        {
          "output_type": "error",
          "ename": "ValueError",
          "evalue": "ignored",
          "traceback": [
            "\u001b[0;31m---------------------------------------------------------------------------\u001b[0m",
            "\u001b[0;31mValueError\u001b[0m                                Traceback (most recent call last)",
            "\u001b[0;32m<ipython-input-16-a8e8b8df0ff2>\u001b[0m in \u001b[0;36m<module>\u001b[0;34m()\u001b[0m\n\u001b[1;32m      1\u001b[0m \u001b[0;31m#fit and display the summary\u001b[0m\u001b[0;34m\u001b[0m\u001b[0;34m\u001b[0m\u001b[0;34m\u001b[0m\u001b[0m\n\u001b[0;32m----> 2\u001b[0;31m \u001b[0mmodel\u001b[0m\u001b[0;34m.\u001b[0m\u001b[0mfit\u001b[0m\u001b[0;34m(\u001b[0m\u001b[0mX_train\u001b[0m\u001b[0;34m,\u001b[0m\u001b[0mY_train\u001b[0m\u001b[0;34m,\u001b[0m \u001b[0mepochs\u001b[0m\u001b[0;34m=\u001b[0m\u001b[0;36m1000\u001b[0m\u001b[0;34m,\u001b[0m \u001b[0mverbose\u001b[0m\u001b[0;34m=\u001b[0m\u001b[0;36m1\u001b[0m\u001b[0;34m)\u001b[0m\u001b[0;34m\u001b[0m\u001b[0;34m\u001b[0m\u001b[0m\n\u001b[0m",
            "\u001b[0;32m/usr/local/lib/python3.6/dist-packages/keras/engine/training.py\u001b[0m in \u001b[0;36mfit\u001b[0;34m(self, x, y, batch_size, epochs, verbose, callbacks, validation_split, validation_data, shuffle, class_weight, sample_weight, initial_epoch, steps_per_epoch, validation_steps, validation_freq, max_queue_size, workers, use_multiprocessing, **kwargs)\u001b[0m\n\u001b[1;32m   1152\u001b[0m             \u001b[0msample_weight\u001b[0m\u001b[0;34m=\u001b[0m\u001b[0msample_weight\u001b[0m\u001b[0;34m,\u001b[0m\u001b[0;34m\u001b[0m\u001b[0;34m\u001b[0m\u001b[0m\n\u001b[1;32m   1153\u001b[0m             \u001b[0mclass_weight\u001b[0m\u001b[0;34m=\u001b[0m\u001b[0mclass_weight\u001b[0m\u001b[0;34m,\u001b[0m\u001b[0;34m\u001b[0m\u001b[0;34m\u001b[0m\u001b[0m\n\u001b[0;32m-> 1154\u001b[0;31m             batch_size=batch_size)\n\u001b[0m\u001b[1;32m   1155\u001b[0m \u001b[0;34m\u001b[0m\u001b[0m\n\u001b[1;32m   1156\u001b[0m         \u001b[0;31m# Prepare validation data.\u001b[0m\u001b[0;34m\u001b[0m\u001b[0;34m\u001b[0m\u001b[0;34m\u001b[0m\u001b[0m\n",
            "\u001b[0;32m/usr/local/lib/python3.6/dist-packages/keras/engine/training.py\u001b[0m in \u001b[0;36m_standardize_user_data\u001b[0;34m(self, x, y, sample_weight, class_weight, check_array_lengths, batch_size)\u001b[0m\n\u001b[1;32m    577\u001b[0m             \u001b[0mfeed_input_shapes\u001b[0m\u001b[0;34m,\u001b[0m\u001b[0;34m\u001b[0m\u001b[0;34m\u001b[0m\u001b[0m\n\u001b[1;32m    578\u001b[0m             \u001b[0mcheck_batch_axis\u001b[0m\u001b[0;34m=\u001b[0m\u001b[0;32mFalse\u001b[0m\u001b[0;34m,\u001b[0m  \u001b[0;31m# Don't enforce the batch size.\u001b[0m\u001b[0;34m\u001b[0m\u001b[0;34m\u001b[0m\u001b[0m\n\u001b[0;32m--> 579\u001b[0;31m             exception_prefix='input')\n\u001b[0m\u001b[1;32m    580\u001b[0m \u001b[0;34m\u001b[0m\u001b[0m\n\u001b[1;32m    581\u001b[0m         \u001b[0;32mif\u001b[0m \u001b[0my\u001b[0m \u001b[0;32mis\u001b[0m \u001b[0;32mnot\u001b[0m \u001b[0;32mNone\u001b[0m\u001b[0;34m:\u001b[0m\u001b[0;34m\u001b[0m\u001b[0;34m\u001b[0m\u001b[0m\n",
            "\u001b[0;32m/usr/local/lib/python3.6/dist-packages/keras/engine/training_utils.py\u001b[0m in \u001b[0;36mstandardize_input_data\u001b[0;34m(data, names, shapes, check_batch_axis, exception_prefix)\u001b[0m\n\u001b[1;32m    143\u001b[0m                             \u001b[0;34m': expected '\u001b[0m \u001b[0;34m+\u001b[0m \u001b[0mnames\u001b[0m\u001b[0;34m[\u001b[0m\u001b[0mi\u001b[0m\u001b[0;34m]\u001b[0m \u001b[0;34m+\u001b[0m \u001b[0;34m' to have shape '\u001b[0m \u001b[0;34m+\u001b[0m\u001b[0;34m\u001b[0m\u001b[0;34m\u001b[0m\u001b[0m\n\u001b[1;32m    144\u001b[0m                             \u001b[0mstr\u001b[0m\u001b[0;34m(\u001b[0m\u001b[0mshape\u001b[0m\u001b[0;34m)\u001b[0m \u001b[0;34m+\u001b[0m \u001b[0;34m' but got array with shape '\u001b[0m \u001b[0;34m+\u001b[0m\u001b[0;34m\u001b[0m\u001b[0;34m\u001b[0m\u001b[0m\n\u001b[0;32m--> 145\u001b[0;31m                             str(data_shape))\n\u001b[0m\u001b[1;32m    146\u001b[0m     \u001b[0;32mreturn\u001b[0m \u001b[0mdata\u001b[0m\u001b[0;34m\u001b[0m\u001b[0;34m\u001b[0m\u001b[0m\n\u001b[1;32m    147\u001b[0m \u001b[0;34m\u001b[0m\u001b[0m\n",
            "\u001b[0;31mValueError\u001b[0m: Error when checking input: expected dense_1_input to have shape (13,) but got array with shape (12,)"
          ]
        }
      ]
    },
    {
      "cell_type": "markdown",
      "metadata": {
        "id": "bx6HmRT1hcJK",
        "colab_type": "text"
      },
      "source": [
        "\n",
        "\n",
        "---\n",
        "\n",
        "![alt text](https://)\n",
        "\n",
        "> Indented block ![alt text](https:// [link text](https://))\n",
        "\n"
      ]
    }
  ]
}